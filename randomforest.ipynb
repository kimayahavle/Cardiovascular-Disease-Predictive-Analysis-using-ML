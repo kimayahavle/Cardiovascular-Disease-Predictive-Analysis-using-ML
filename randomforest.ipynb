{
 "cells": [
  {
   "cell_type": "markdown",
   "id": "57a1293a",
   "metadata": {},
   "source": [
    "### Cardiovascular Disease Predictive Analysis using Random Forest\n",
    "#### _Author: Kimaya Havle_\n",
    "\n",
    "In this notebook we will be performing predictive analysis of risk of Cardiovascular Disease using Random Forest algorithm."
   ]
  },
  {
   "cell_type": "code",
   "execution_count": 1,
   "id": "81981155",
   "metadata": {},
   "outputs": [],
   "source": [
    "import pandas as pd\n",
    "from sklearn.model_selection import train_test_split\n",
    "from sklearn.ensemble import RandomForestClassifier\n",
    "from sklearn import metrics\n",
    "from sklearn.model_selection import GridSearchCV\n",
    "import warnings\n",
    "warnings.filterwarnings('ignore')\n",
    "from sklearn.inspection import permutation_importance\n",
    "import seaborn as sns\n",
    "import matplotlib.pyplot as plt"
   ]
  },
  {
   "cell_type": "markdown",
   "id": "09ef474c",
   "metadata": {},
   "source": [
    "### Reading the dataset"
   ]
  },
  {
   "cell_type": "code",
   "execution_count": 2,
   "id": "4684ecab",
   "metadata": {},
   "outputs": [
    {
     "data": {
      "text/html": [
       "<div>\n",
       "<style scoped>\n",
       "    .dataframe tbody tr th:only-of-type {\n",
       "        vertical-align: middle;\n",
       "    }\n",
       "\n",
       "    .dataframe tbody tr th {\n",
       "        vertical-align: top;\n",
       "    }\n",
       "\n",
       "    .dataframe thead th {\n",
       "        text-align: right;\n",
       "    }\n",
       "</style>\n",
       "<table border=\"1\" class=\"dataframe\">\n",
       "  <thead>\n",
       "    <tr style=\"text-align: right;\">\n",
       "      <th></th>\n",
       "      <th>age</th>\n",
       "      <th>gender</th>\n",
       "      <th>height</th>\n",
       "      <th>weight</th>\n",
       "      <th>systolic</th>\n",
       "      <th>diastolic</th>\n",
       "      <th>cholesterol</th>\n",
       "      <th>glucose</th>\n",
       "      <th>smoke</th>\n",
       "      <th>alcohol</th>\n",
       "      <th>active</th>\n",
       "      <th>cardiovascular_disease</th>\n",
       "      <th>bmi</th>\n",
       "      <th>pulse_pressure</th>\n",
       "    </tr>\n",
       "  </thead>\n",
       "  <tbody>\n",
       "    <tr>\n",
       "      <th>0</th>\n",
       "      <td>50</td>\n",
       "      <td>2</td>\n",
       "      <td>168</td>\n",
       "      <td>62.0</td>\n",
       "      <td>110</td>\n",
       "      <td>80</td>\n",
       "      <td>1</td>\n",
       "      <td>1</td>\n",
       "      <td>0</td>\n",
       "      <td>0</td>\n",
       "      <td>1</td>\n",
       "      <td>0</td>\n",
       "      <td>21.97</td>\n",
       "      <td>30</td>\n",
       "    </tr>\n",
       "    <tr>\n",
       "      <th>1</th>\n",
       "      <td>48</td>\n",
       "      <td>2</td>\n",
       "      <td>169</td>\n",
       "      <td>82.0</td>\n",
       "      <td>150</td>\n",
       "      <td>100</td>\n",
       "      <td>1</td>\n",
       "      <td>1</td>\n",
       "      <td>0</td>\n",
       "      <td>0</td>\n",
       "      <td>1</td>\n",
       "      <td>1</td>\n",
       "      <td>28.71</td>\n",
       "      <td>50</td>\n",
       "    </tr>\n",
       "    <tr>\n",
       "      <th>2</th>\n",
       "      <td>47</td>\n",
       "      <td>1</td>\n",
       "      <td>156</td>\n",
       "      <td>56.0</td>\n",
       "      <td>100</td>\n",
       "      <td>60</td>\n",
       "      <td>1</td>\n",
       "      <td>1</td>\n",
       "      <td>0</td>\n",
       "      <td>0</td>\n",
       "      <td>0</td>\n",
       "      <td>0</td>\n",
       "      <td>23.01</td>\n",
       "      <td>40</td>\n",
       "    </tr>\n",
       "    <tr>\n",
       "      <th>3</th>\n",
       "      <td>48</td>\n",
       "      <td>1</td>\n",
       "      <td>158</td>\n",
       "      <td>71.0</td>\n",
       "      <td>110</td>\n",
       "      <td>70</td>\n",
       "      <td>1</td>\n",
       "      <td>1</td>\n",
       "      <td>0</td>\n",
       "      <td>0</td>\n",
       "      <td>1</td>\n",
       "      <td>0</td>\n",
       "      <td>28.44</td>\n",
       "      <td>40</td>\n",
       "    </tr>\n",
       "    <tr>\n",
       "      <th>4</th>\n",
       "      <td>40</td>\n",
       "      <td>2</td>\n",
       "      <td>165</td>\n",
       "      <td>60.0</td>\n",
       "      <td>120</td>\n",
       "      <td>80</td>\n",
       "      <td>1</td>\n",
       "      <td>1</td>\n",
       "      <td>0</td>\n",
       "      <td>0</td>\n",
       "      <td>0</td>\n",
       "      <td>0</td>\n",
       "      <td>22.04</td>\n",
       "      <td>40</td>\n",
       "    </tr>\n",
       "  </tbody>\n",
       "</table>\n",
       "</div>"
      ],
      "text/plain": [
       "   age  gender  height  weight  systolic  diastolic  cholesterol  glucose  \\\n",
       "0   50       2     168    62.0       110         80            1        1   \n",
       "1   48       2     169    82.0       150        100            1        1   \n",
       "2   47       1     156    56.0       100         60            1        1   \n",
       "3   48       1     158    71.0       110         70            1        1   \n",
       "4   40       2     165    60.0       120         80            1        1   \n",
       "\n",
       "   smoke  alcohol  active  cardiovascular_disease    bmi  pulse_pressure  \n",
       "0      0        0       1                       0  21.97              30  \n",
       "1      0        0       1                       1  28.71              50  \n",
       "2      0        0       0                       0  23.01              40  \n",
       "3      0        0       1                       0  28.44              40  \n",
       "4      0        0       0                       0  22.04              40  "
      ]
     },
     "execution_count": 2,
     "metadata": {},
     "output_type": "execute_result"
    }
   ],
   "source": [
    "# Reading the dataset\n",
    "df = pd.read_csv('-preprocessed_dataset.csv')\n",
    "df.head(5)"
   ]
  },
  {
   "cell_type": "code",
   "execution_count": 3,
   "id": "77492ca0",
   "metadata": {},
   "outputs": [
    {
     "data": {
      "text/plain": [
       "(21314, 14)"
      ]
     },
     "execution_count": 3,
     "metadata": {},
     "output_type": "execute_result"
    }
   ],
   "source": [
    "# Checking the shape i.e number of rows (records) and columns (features)\n",
    "df.shape"
   ]
  },
  {
   "cell_type": "markdown",
   "id": "1dfe2707",
   "metadata": {},
   "source": [
    "### Feature selection"
   ]
  },
  {
   "cell_type": "code",
   "execution_count": 4,
   "id": "eb2ca3c8",
   "metadata": {},
   "outputs": [],
   "source": [
    "# Selecting the relevant features from the dataframe and storing it in X\n",
    "X = df[['age', 'gender', 'cholesterol', 'glucose', 'smoke', 'alcohol', 'active', 'height', 'weight', 'systolic', 'diastolic','pulse_pressure']]\n",
    "# Selecting the target variable from the dataframe and storing it in y\n",
    "y = df[['cardiovascular_disease']]"
   ]
  },
  {
   "cell_type": "markdown",
   "id": "7900fd6d",
   "metadata": {},
   "source": [
    "### Dataset splitting"
   ]
  },
  {
   "cell_type": "code",
   "execution_count": 5,
   "id": "62addfea",
   "metadata": {},
   "outputs": [],
   "source": [
    "# Splitting the dataset into training (75%) and test set (25%)\n",
    "X_train, X_test, y_train, y_test = train_test_split(X, y, test_size=0.25)"
   ]
  },
  {
   "cell_type": "markdown",
   "id": "42cd5ab4",
   "metadata": {},
   "source": [
    "### Prediction"
   ]
  },
  {
   "cell_type": "code",
   "execution_count": 6,
   "id": "a065893c",
   "metadata": {},
   "outputs": [],
   "source": [
    "# Initializing RandomForestClassifier\n",
    "rf_classifier = RandomForestClassifier()\n",
    "# Training the Random Forest classifier model using the training dataset\n",
    "train_model = rf_classifier.fit(X_train, y_train)"
   ]
  },
  {
   "cell_type": "code",
   "execution_count": 7,
   "id": "961530fa",
   "metadata": {},
   "outputs": [],
   "source": [
    "# Predicting for test data\n",
    "y_pred = train_model.predict(X_test)"
   ]
  },
  {
   "cell_type": "code",
   "execution_count": 8,
   "id": "049078e3",
   "metadata": {},
   "outputs": [
    {
     "data": {
      "text/plain": [
       "0.7511728279226871"
      ]
     },
     "execution_count": 8,
     "metadata": {},
     "output_type": "execute_result"
    }
   ],
   "source": [
    "# Finding the accuracy score using the predicted labels and the actual test labels \n",
    "accuracy = metrics.accuracy_score(y_test, y_pred)\n",
    "accuracy"
   ]
  },
  {
   "cell_type": "markdown",
   "id": "24a2d4e8",
   "metadata": {},
   "source": [
    "### Tuning Hyperparameters "
   ]
  },
  {
   "cell_type": "code",
   "execution_count": 9,
   "id": "e4c0ae1c",
   "metadata": {},
   "outputs": [],
   "source": [
    "# Creating a dictionary of the hyperparameters and the range of values we want to use for tuning\n",
    "# Dictionary 'key' is the name of the hyperparameter we want to tune\n",
    "# Dictionary value is the range of values for the hyperparameter\n",
    "# For this project we will tune the following parameters --\n",
    "# 'n_estimators' - number of base estimators or weak learners we want to use\n",
    "# 'max_depth' - the depth of the each decision tree in the forest\n",
    "hyperparameters = {'n_estimators':[100,200,350,1000], 'max_depth': [3,5,7,9,11]}"
   ]
  },
  {
   "cell_type": "code",
   "execution_count": 10,
   "id": "b668f3ed",
   "metadata": {},
   "outputs": [],
   "source": [
    "# We are using GridSearchCV to tune the hyperparameters and cross validate\n",
    "grid_search = GridSearchCV(estimator= rf_classifier, param_grid=hyperparameters, cv=10, scoring='accuracy')"
   ]
  },
  {
   "cell_type": "code",
   "execution_count": 11,
   "id": "905683d3",
   "metadata": {},
   "outputs": [
    {
     "data": {
      "text/plain": [
       "GridSearchCV(cv=10, estimator=RandomForestClassifier(),\n",
       "             param_grid={'max_depth': [3, 5, 7, 9, 11],\n",
       "                         'n_estimators': [100, 200, 350, 1000]},\n",
       "             scoring='accuracy')"
      ]
     },
     "execution_count": 11,
     "metadata": {},
     "output_type": "execute_result"
    }
   ],
   "source": [
    "grid_search_result = grid_search.fit(X, y)\n",
    "grid_search_result"
   ]
  },
  {
   "cell_type": "code",
   "execution_count": 13,
   "id": "28870a25",
   "metadata": {},
   "outputs": [
    {
     "data": {
      "text/html": [
       "<div>\n",
       "<style scoped>\n",
       "    .dataframe tbody tr th:only-of-type {\n",
       "        vertical-align: middle;\n",
       "    }\n",
       "\n",
       "    .dataframe tbody tr th {\n",
       "        vertical-align: top;\n",
       "    }\n",
       "\n",
       "    .dataframe thead th {\n",
       "        text-align: right;\n",
       "    }\n",
       "</style>\n",
       "<table border=\"1\" class=\"dataframe\">\n",
       "  <thead>\n",
       "    <tr style=\"text-align: right;\">\n",
       "      <th></th>\n",
       "      <th>params</th>\n",
       "      <th>mean_test_score</th>\n",
       "    </tr>\n",
       "  </thead>\n",
       "  <tbody>\n",
       "    <tr>\n",
       "      <th>0</th>\n",
       "      <td>{'max_depth': 3, 'n_estimators': 100}</td>\n",
       "      <td>0.779629</td>\n",
       "    </tr>\n",
       "    <tr>\n",
       "      <th>1</th>\n",
       "      <td>{'max_depth': 3, 'n_estimators': 200}</td>\n",
       "      <td>0.779629</td>\n",
       "    </tr>\n",
       "    <tr>\n",
       "      <th>2</th>\n",
       "      <td>{'max_depth': 3, 'n_estimators': 350}</td>\n",
       "      <td>0.780332</td>\n",
       "    </tr>\n",
       "    <tr>\n",
       "      <th>3</th>\n",
       "      <td>{'max_depth': 3, 'n_estimators': 1000}</td>\n",
       "      <td>0.779863</td>\n",
       "    </tr>\n",
       "    <tr>\n",
       "      <th>4</th>\n",
       "      <td>{'max_depth': 5, 'n_estimators': 100}</td>\n",
       "      <td>0.783804</td>\n",
       "    </tr>\n",
       "    <tr>\n",
       "      <th>5</th>\n",
       "      <td>{'max_depth': 5, 'n_estimators': 200}</td>\n",
       "      <td>0.782960</td>\n",
       "    </tr>\n",
       "    <tr>\n",
       "      <th>6</th>\n",
       "      <td>{'max_depth': 5, 'n_estimators': 350}</td>\n",
       "      <td>0.782302</td>\n",
       "    </tr>\n",
       "    <tr>\n",
       "      <th>7</th>\n",
       "      <td>{'max_depth': 5, 'n_estimators': 1000}</td>\n",
       "      <td>0.783194</td>\n",
       "    </tr>\n",
       "    <tr>\n",
       "      <th>8</th>\n",
       "      <td>{'max_depth': 7, 'n_estimators': 100}</td>\n",
       "      <td>0.786479</td>\n",
       "    </tr>\n",
       "    <tr>\n",
       "      <th>9</th>\n",
       "      <td>{'max_depth': 7, 'n_estimators': 200}</td>\n",
       "      <td>0.785915</td>\n",
       "    </tr>\n",
       "    <tr>\n",
       "      <th>10</th>\n",
       "      <td>{'max_depth': 7, 'n_estimators': 350}</td>\n",
       "      <td>0.786619</td>\n",
       "    </tr>\n",
       "    <tr>\n",
       "      <th>11</th>\n",
       "      <td>{'max_depth': 7, 'n_estimators': 1000}</td>\n",
       "      <td>0.785822</td>\n",
       "    </tr>\n",
       "    <tr>\n",
       "      <th>12</th>\n",
       "      <td>{'max_depth': 9, 'n_estimators': 100}</td>\n",
       "      <td>0.786807</td>\n",
       "    </tr>\n",
       "    <tr>\n",
       "      <th>13</th>\n",
       "      <td>{'max_depth': 9, 'n_estimators': 200}</td>\n",
       "      <td>0.786901</td>\n",
       "    </tr>\n",
       "    <tr>\n",
       "      <th>14</th>\n",
       "      <td>{'max_depth': 9, 'n_estimators': 350}</td>\n",
       "      <td>0.786995</td>\n",
       "    </tr>\n",
       "    <tr>\n",
       "      <th>15</th>\n",
       "      <td>{'max_depth': 9, 'n_estimators': 1000}</td>\n",
       "      <td>0.787276</td>\n",
       "    </tr>\n",
       "    <tr>\n",
       "      <th>16</th>\n",
       "      <td>{'max_depth': 11, 'n_estimators': 100}</td>\n",
       "      <td>0.785446</td>\n",
       "    </tr>\n",
       "    <tr>\n",
       "      <th>17</th>\n",
       "      <td>{'max_depth': 11, 'n_estimators': 200}</td>\n",
       "      <td>0.786197</td>\n",
       "    </tr>\n",
       "    <tr>\n",
       "      <th>18</th>\n",
       "      <td>{'max_depth': 11, 'n_estimators': 350}</td>\n",
       "      <td>0.785728</td>\n",
       "    </tr>\n",
       "    <tr>\n",
       "      <th>19</th>\n",
       "      <td>{'max_depth': 11, 'n_estimators': 1000}</td>\n",
       "      <td>0.786666</td>\n",
       "    </tr>\n",
       "  </tbody>\n",
       "</table>\n",
       "</div>"
      ],
      "text/plain": [
       "                                     params  mean_test_score\n",
       "0     {'max_depth': 3, 'n_estimators': 100}         0.779629\n",
       "1     {'max_depth': 3, 'n_estimators': 200}         0.779629\n",
       "2     {'max_depth': 3, 'n_estimators': 350}         0.780332\n",
       "3    {'max_depth': 3, 'n_estimators': 1000}         0.779863\n",
       "4     {'max_depth': 5, 'n_estimators': 100}         0.783804\n",
       "5     {'max_depth': 5, 'n_estimators': 200}         0.782960\n",
       "6     {'max_depth': 5, 'n_estimators': 350}         0.782302\n",
       "7    {'max_depth': 5, 'n_estimators': 1000}         0.783194\n",
       "8     {'max_depth': 7, 'n_estimators': 100}         0.786479\n",
       "9     {'max_depth': 7, 'n_estimators': 200}         0.785915\n",
       "10    {'max_depth': 7, 'n_estimators': 350}         0.786619\n",
       "11   {'max_depth': 7, 'n_estimators': 1000}         0.785822\n",
       "12    {'max_depth': 9, 'n_estimators': 100}         0.786807\n",
       "13    {'max_depth': 9, 'n_estimators': 200}         0.786901\n",
       "14    {'max_depth': 9, 'n_estimators': 350}         0.786995\n",
       "15   {'max_depth': 9, 'n_estimators': 1000}         0.787276\n",
       "16   {'max_depth': 11, 'n_estimators': 100}         0.785446\n",
       "17   {'max_depth': 11, 'n_estimators': 200}         0.786197\n",
       "18   {'max_depth': 11, 'n_estimators': 350}         0.785728\n",
       "19  {'max_depth': 11, 'n_estimators': 1000}         0.786666"
      ]
     },
     "execution_count": 13,
     "metadata": {},
     "output_type": "execute_result"
    }
   ],
   "source": [
    "# Creating a dataframe of the GridSearchCV results\n",
    "grid_search_cv_results = pd.DataFrame(grid_search_result.cv_results_)\n",
    "# Displaying the relevant columns from the GridSearchCV results\n",
    "grid_search_cv_results[['params', 'mean_test_score']]"
   ]
  },
  {
   "cell_type": "code",
   "execution_count": 15,
   "id": "8415d222",
   "metadata": {},
   "outputs": [
    {
     "name": "stdout",
     "output_type": "stream",
     "text": [
      "Best Accuracy: 0.7872759664137811\n",
      "Best parameters: {'max_depth': 9, 'n_estimators': 1000}\n",
      "Precision: 0.6672514619883041\n",
      "Recall: 0.601159114857745\n",
      "F1 Score: 0.6324833702882484\n"
     ]
    }
   ],
   "source": [
    "print(\"Best Accuracy:\", grid_search_result.best_score_)\n",
    "print(\"Best parameters:\", grid_search_result.best_params_)\n",
    "print(\"Precision:\",metrics.precision_score(y_test, y_pred))\n",
    "print(\"Recall:\", metrics.recall_score(y_test, y_pred))\n",
    "print(\"F1 Score:\", metrics.f1_score(y_test, y_pred))"
   ]
  },
  {
   "cell_type": "markdown",
   "id": "ca3d4ebf",
   "metadata": {},
   "source": [
    "### Feature analysis for the model"
   ]
  },
  {
   "cell_type": "code",
   "execution_count": 16,
   "id": "29f7bd23",
   "metadata": {},
   "outputs": [
    {
     "data": {
      "text/plain": [
       "{'importances_mean': array([ 3.22762244e-03, -1.31356727e-03,  2.30812535e-02,  4.12835429e-04,\n",
       "         2.25182961e-04,  2.62713455e-04, -6.66133815e-17, -4.50365922e-03,\n",
       "        -1.53875023e-03,  1.13867517e-01,  4.35353725e-03, -3.41527491e-03]),\n",
       " 'importances_std': array([0.00159846, 0.0026029 , 0.00200709, 0.00210439, 0.00072581,\n",
       "        0.00048355, 0.00131088, 0.00339231, 0.00395301, 0.00254931,\n",
       "        0.00200147, 0.00208083]),\n",
       " 'importances': array([[ 0.00093826,  0.00412835,  0.00487896,  0.00450366,  0.00168887],\n",
       "        [-0.00431601, -0.00300244, -0.00131357,  0.00337774, -0.00131357],\n",
       "        [ 0.02101708,  0.02552074,  0.02552074,  0.02158003,  0.02176769],\n",
       "        [ 0.00187652, -0.00337774,  0.00225183,  0.00168887, -0.0003753 ],\n",
       "        [-0.0003753 ,  0.00018765, -0.00075061,  0.00112591,  0.00093826],\n",
       "        [ 0.        ,  0.00093826, -0.00018765, -0.00018765,  0.00075061],\n",
       "        [ 0.00018765, -0.00131357, -0.00150122,  0.00206418,  0.00056296],\n",
       "        [ 0.00075061, -0.00581723, -0.00262713, -0.00544192, -0.00938262],\n",
       "        [ 0.00243948, -0.00150122,  0.00150122, -0.00131357, -0.00881967],\n",
       "        [ 0.10940139,  0.11690749,  0.11559392,  0.1140927 ,  0.11334209],\n",
       "        [ 0.00243948,  0.00675549,  0.00619253,  0.00168887,  0.00469131],\n",
       "        [-0.00168887, -0.00225183, -0.00638018, -0.00131357, -0.00544192]])}"
      ]
     },
     "execution_count": 16,
     "metadata": {},
     "output_type": "execute_result"
    }
   ],
   "source": [
    "# We imported the permutation_importance module from sklearn. The permutation_importance module is indicative of how much the model \n",
    "# depends on a particular feature.\n",
    "feature_importance = permutation_importance(rf_classifier, X_test, y_test, n_jobs=-1)\n",
    "feature_importance"
   ]
  },
  {
   "cell_type": "code",
   "execution_count": 17,
   "id": "9643fee7",
   "metadata": {},
   "outputs": [
    {
     "data": {
      "text/plain": [
       "array([ 7, 11,  8,  1,  6,  4,  5,  3,  0, 10,  2,  9])"
      ]
     },
     "execution_count": 17,
     "metadata": {},
     "output_type": "execute_result"
    }
   ],
   "source": [
    "# As seen above the 'importances_mean' key corresponds to the mean of importance of each feature\n",
    "# We would like to sort the array to get the importances in an increasing order\n",
    "# We can sort it using the sort() method, however we will use argsort() method which will sort the list of indices that would be present after sorting\n",
    "# This argsort will be used to plot the features in an increasing order without actually sorting the data \n",
    "args = feature_importance.importances_mean.argsort()\n",
    "args"
   ]
  },
  {
   "cell_type": "code",
   "execution_count": 18,
   "id": "72e21ff1",
   "metadata": {},
   "outputs": [
    {
     "data": {
      "image/png": "[encoded data removed]",
      "text/plain": [
       "<Figure size 500x500 with 1 Axes>"
      ]
     },
     "metadata": {},
     "output_type": "display_data"
    }
   ],
   "source": [
    "# Plotting the feature importance using the seaborn library\n",
    "plt.figure(figsize=(5,5))\n",
    "sns.barplot(y=X_test.columns[args], x=feature_importance.importances_mean[args], estimator=sum, orient=\"h\", color= \"steelblue\")\n",
    "plt.xlabel('Importance')\n",
    "plt.title('Feature Analysis for Random Forest Model')\n",
    "plt.show()"
   ]
  },
  {
   "cell_type": "code",
   "execution_count": null,
   "id": "c653bcb8",
   "metadata": {},
   "outputs": [],
   "source": []
  }
 ],
 "metadata": {
  "kernelspec": {
   "display_name": "Python 3 (ipykernel)",
   "language": "python",
   "name": "python3"
  },
  "language_info": {
   "codemirror_mode": {
    "name": "ipython",
    "version": 3
   },
   "file_extension": ".py",
   "mimetype": "text/x-python",
   "name": "python",
   "nbconvert_exporter": "python",
   "pygments_lexer": "ipython3",
   "version": "3.9.13"
  }
 },
 "nbformat": 4,
 "nbformat_minor": 5
}
